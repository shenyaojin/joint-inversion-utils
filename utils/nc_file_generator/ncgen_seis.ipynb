{
 "cells": [
  {
   "cell_type": "code",
   "execution_count": 1,
   "metadata": {
    "collapsed": true
   },
   "outputs": [],
   "source": [
    "# Dependence Libs: netcdf4\n",
    "# dot nc file generator python implement\n",
    "# the generator need to be modified, the python version is different to c++ version.\n",
    "import netCDF4 as nc\n",
    "import numpy as np"
   ]
  },
  {
   "cell_type": "code",
   "execution_count": 3,
   "metadata": {
    "collapsed": false
   },
   "outputs": [
    {
     "name": "stdout",
     "output_type": "stream",
     "text": [
      "<class 'netCDF4._netCDF4.Dataset'>\n",
      "root group (NETCDF4 data model, file format HDF5):\n",
      "    Conventions: CF-1.3\n",
      "    dimensions(sizes): nbound(2), Northing(3), Easting(162), Depth(25)\n",
      "    variables(dimensions): int32 nbound(nbound), float64 Northing(Northing), float64 Northing_bnds(Northing, nbound), float64 Northing_Origin(), float64 Easting(Easting), float64 Easting_bnds(Easting, nbound), float64 Easting_Origin(), float64 Depth(Depth), float64 Depth_bnds(Depth, nbound), float64 Depth_Origin(), float64 Slowness(Depth, Easting, Northing)\n",
      "    groups: \n"
     ]
    }
   ],
   "source": [
    "# file path\n",
    "test_file_path = r'data/start_vel.nc'\n",
    "data_set = ds = nc.Dataset(test_file_path)\n",
    "print(data_set)"
   ]
  },
  {
   "cell_type": "code",
   "execution_count": 4,
   "metadata": {
    "collapsed": false
   },
   "outputs": [
    {
     "name": "stdout",
     "output_type": "stream",
     "text": [
      "{'Conventions': 'CF-1.3'}\n"
     ]
    }
   ],
   "source": [
    "print(ds.__dict__)"
   ]
  },
  {
   "cell_type": "code",
   "execution_count": 5,
   "metadata": {
    "collapsed": false
   },
   "outputs": [
    {
     "name": "stdout",
     "output_type": "stream",
     "text": [
      "<class 'netCDF4._netCDF4.Dimension'>: name = 'nbound', size = 2\n",
      "<class 'netCDF4._netCDF4.Dimension'>: name = 'Northing', size = 3\n",
      "<class 'netCDF4._netCDF4.Dimension'>: name = 'Easting', size = 162\n",
      "<class 'netCDF4._netCDF4.Dimension'>: name = 'Depth', size = 25\n"
     ]
    }
   ],
   "source": [
    "for dim in ds.dimensions.values():\n",
    "    print(dim)"
   ]
  },
  {
   "cell_type": "code",
   "execution_count": 6,
   "metadata": {
    "collapsed": false
   },
   "outputs": [
    {
     "name": "stdout",
     "output_type": "stream",
     "text": [
      "<class 'netCDF4._netCDF4.Variable'>\n",
      "int32 nbound(nbound)\n",
      "    long_name: Boundary index variable\n",
      "unlimited dimensions: \n",
      "current shape = (2,)\n",
      "filling on, default _FillValue of -2147483647 used\n",
      "<class 'netCDF4._netCDF4.Variable'>\n",
      "float64 Northing(Northing)\n",
      "    units: m\n",
      "    long_name: Northing coordinate\n",
      "    bounds: Northing_bnds\n",
      "unlimited dimensions: \n",
      "current shape = (3,)\n",
      "filling on, default _FillValue of 9.969209968386869e+36 used\n",
      "<class 'netCDF4._netCDF4.Variable'>\n",
      "float64 Northing_bnds(Northing, nbound)\n",
      "    units: m\n",
      "unlimited dimensions: \n",
      "current shape = (3, 2)\n",
      "filling on, default _FillValue of 9.969209968386869e+36 used\n",
      "<class 'netCDF4._netCDF4.Variable'>\n",
      "float64 Northing_Origin()\n",
      "unlimited dimensions: \n",
      "current shape = ()\n",
      "filling on, default _FillValue of 9.969209968386869e+36 used\n",
      "<class 'netCDF4._netCDF4.Variable'>\n",
      "float64 Easting(Easting)\n",
      "    units: m\n",
      "    long_name: Easting coordinate\n",
      "    bounds: Easting_bnds\n",
      "unlimited dimensions: \n",
      "current shape = (162,)\n",
      "filling on, default _FillValue of 9.969209968386869e+36 used\n",
      "<class 'netCDF4._netCDF4.Variable'>\n",
      "float64 Easting_bnds(Easting, nbound)\n",
      "    units: m\n",
      "unlimited dimensions: \n",
      "current shape = (162, 2)\n",
      "filling on, default _FillValue of 9.969209968386869e+36 used\n",
      "<class 'netCDF4._netCDF4.Variable'>\n",
      "float64 Easting_Origin()\n",
      "unlimited dimensions: \n",
      "current shape = ()\n",
      "filling on, default _FillValue of 9.969209968386869e+36 used\n",
      "<class 'netCDF4._netCDF4.Variable'>\n",
      "float64 Depth(Depth)\n",
      "    units: m\n",
      "    long_name: Depth coordinate\n",
      "    bounds: Depth_bnds\n",
      "unlimited dimensions: \n",
      "current shape = (25,)\n",
      "filling on, default _FillValue of 9.969209968386869e+36 used\n",
      "<class 'netCDF4._netCDF4.Variable'>\n",
      "float64 Depth_bnds(Depth, nbound)\n",
      "    units: m\n",
      "unlimited dimensions: \n",
      "current shape = (25, 2)\n",
      "filling on, default _FillValue of 9.969209968386869e+36 used\n",
      "<class 'netCDF4._netCDF4.Variable'>\n",
      "float64 Depth_Origin()\n",
      "unlimited dimensions: \n",
      "current shape = ()\n",
      "filling on, default _FillValue of 9.969209968386869e+36 used\n",
      "<class 'netCDF4._netCDF4.Variable'>\n",
      "float64 Slowness(Depth, Easting, Northing)\n",
      "    units: s/m\n",
      "    long_name: Slowness\n",
      "unlimited dimensions: \n",
      "current shape = (25, 162, 3)\n",
      "filling on, default _FillValue of 9.969209968386869e+36 used\n"
     ]
    }
   ],
   "source": [
    "for var in ds.variables.values():\n",
    "    print(var)"
   ]
  },
  {
   "cell_type": "code",
   "execution_count": 9,
   "metadata": {
    "collapsed": false
   },
   "outputs": [],
   "source": [
    "# parameters\n",
    "northing_cell = 3\n",
    "easting_cell = 162\n",
    "depth_cell = 25\n",
    "interval = 0.2\n",
    "nbound_val = 2\n",
    "\n",
    "min_vel = 150\n",
    "max_vel = 1100\n",
    "\n",
    "filename = 'test_mdoel_seis.nc'"
   ]
  },
  {
   "cell_type": "code",
   "execution_count": 10,
   "metadata": {
    "collapsed": false
   },
   "outputs": [
    {
     "name": "stdout",
     "output_type": "stream",
     "text": [
      "<class 'netCDF4._netCDF4.Dataset'>\n",
      "root group (NETCDF4_CLASSIC data model, file format HDF5):\n",
      "    dimensions(sizes): \n",
      "    variables(dimensions): \n",
      "    groups: \n"
     ]
    }
   ],
   "source": [
    "nc_file = nc.Dataset(filename, mode='w', format='NETCDF4_CLASSIC')\n",
    "print(nc_file)"
   ]
  },
  {
   "cell_type": "code",
   "execution_count": 11,
   "metadata": {
    "collapsed": false
   },
   "outputs": [
    {
     "data": {
      "text/plain": [
       "masked_array(\n",
       "  data=[[ 0. ,  0.2],\n",
       "        [ 0.2,  0.4],\n",
       "        [ 0.4,  0.6],\n",
       "        [ 0.6,  0.8],\n",
       "        [ 0.8,  1. ],\n",
       "        [ 1. ,  1.2],\n",
       "        [ 1.2,  1.4],\n",
       "        [ 1.4,  1.6],\n",
       "        [ 1.6,  1.8],\n",
       "        [ 1.8,  2. ],\n",
       "        [ 2. ,  2.2],\n",
       "        [ 2.2,  2.4],\n",
       "        [ 2.4,  2.6],\n",
       "        [ 2.6,  2.8],\n",
       "        [ 2.8,  3. ],\n",
       "        [ 3. ,  3.2],\n",
       "        [ 3.2,  3.4],\n",
       "        [ 3.4,  3.6],\n",
       "        [ 3.6,  3.8],\n",
       "        [ 3.8,  4. ],\n",
       "        [ 4. ,  4.2],\n",
       "        [ 4.2,  4.4],\n",
       "        [ 4.4,  4.6],\n",
       "        [ 4.6,  4.8],\n",
       "        [ 4.8,  5. ],\n",
       "        [ 5. ,  5.2],\n",
       "        [ 5.2,  5.4],\n",
       "        [ 5.4,  5.6],\n",
       "        [ 5.6,  5.8],\n",
       "        [ 5.8,  6. ],\n",
       "        [ 6. ,  6.2],\n",
       "        [ 6.2,  6.4],\n",
       "        [ 6.4,  6.6],\n",
       "        [ 6.6,  6.8],\n",
       "        [ 6.8,  7. ],\n",
       "        [ 7. ,  7.2],\n",
       "        [ 7.2,  7.4],\n",
       "        [ 7.4,  7.6],\n",
       "        [ 7.6,  7.8],\n",
       "        [ 7.8,  8. ],\n",
       "        [ 8. ,  8.2],\n",
       "        [ 8.2,  8.4],\n",
       "        [ 8.4,  8.6],\n",
       "        [ 8.6,  8.8],\n",
       "        [ 8.8,  9. ],\n",
       "        [ 9. ,  9.2],\n",
       "        [ 9.2,  9.4],\n",
       "        [ 9.4,  9.6],\n",
       "        [ 9.6,  9.8],\n",
       "        [ 9.8, 10. ],\n",
       "        [10. , 10.2],\n",
       "        [10.2, 10.4],\n",
       "        [10.4, 10.6],\n",
       "        [10.6, 10.8],\n",
       "        [10.8, 11. ],\n",
       "        [11. , 11.2],\n",
       "        [11.2, 11.4],\n",
       "        [11.4, 11.6],\n",
       "        [11.6, 11.8],\n",
       "        [11.8, 12. ],\n",
       "        [12. , 12.2],\n",
       "        [12.2, 12.4],\n",
       "        [12.4, 12.6],\n",
       "        [12.6, 12.8],\n",
       "        [12.8, 13. ],\n",
       "        [13. , 13.2],\n",
       "        [13.2, 13.4],\n",
       "        [13.4, 13.6],\n",
       "        [13.6, 13.8],\n",
       "        [13.8, 14. ],\n",
       "        [14. , 14.2],\n",
       "        [14.2, 14.4],\n",
       "        [14.4, 14.6],\n",
       "        [14.6, 14.8],\n",
       "        [14.8, 15. ],\n",
       "        [15. , 15.2],\n",
       "        [15.2, 15.4],\n",
       "        [15.4, 15.6],\n",
       "        [15.6, 15.8],\n",
       "        [15.8, 16. ],\n",
       "        [16. , 16.2],\n",
       "        [16.2, 16.4],\n",
       "        [16.4, 16.6],\n",
       "        [16.6, 16.8],\n",
       "        [16.8, 17. ],\n",
       "        [17. , 17.2],\n",
       "        [17.2, 17.4],\n",
       "        [17.4, 17.6],\n",
       "        [17.6, 17.8],\n",
       "        [17.8, 18. ],\n",
       "        [18. , 18.2],\n",
       "        [18.2, 18.4],\n",
       "        [18.4, 18.6],\n",
       "        [18.6, 18.8],\n",
       "        [18.8, 19. ],\n",
       "        [19. , 19.2],\n",
       "        [19.2, 19.4],\n",
       "        [19.4, 19.6],\n",
       "        [19.6, 19.8],\n",
       "        [19.8, 20. ],\n",
       "        [20. , 20.2],\n",
       "        [20.2, 20.4],\n",
       "        [20.4, 20.6],\n",
       "        [20.6, 20.8],\n",
       "        [20.8, 21. ],\n",
       "        [21. , 21.2],\n",
       "        [21.2, 21.4],\n",
       "        [21.4, 21.6],\n",
       "        [21.6, 21.8],\n",
       "        [21.8, 22. ],\n",
       "        [22. , 22.2],\n",
       "        [22.2, 22.4],\n",
       "        [22.4, 22.6],\n",
       "        [22.6, 22.8],\n",
       "        [22.8, 23. ],\n",
       "        [23. , 23.2],\n",
       "        [23.2, 23.4],\n",
       "        [23.4, 23.6],\n",
       "        [23.6, 23.8],\n",
       "        [23.8, 24. ],\n",
       "        [24. , 24.2],\n",
       "        [24.2, 24.4],\n",
       "        [24.4, 24.6],\n",
       "        [24.6, 24.8],\n",
       "        [24.8, 25. ],\n",
       "        [25. , 25.2],\n",
       "        [25.2, 25.4],\n",
       "        [25.4, 25.6],\n",
       "        [25.6, 25.8],\n",
       "        [25.8, 26. ],\n",
       "        [26. , 26.2],\n",
       "        [26.2, 26.4],\n",
       "        [26.4, 26.6],\n",
       "        [26.6, 26.8],\n",
       "        [26.8, 27. ],\n",
       "        [27. , 27.2],\n",
       "        [27.2, 27.4],\n",
       "        [27.4, 27.6],\n",
       "        [27.6, 27.8],\n",
       "        [27.8, 28. ],\n",
       "        [28. , 28.2],\n",
       "        [28.2, 28.4],\n",
       "        [28.4, 28.6],\n",
       "        [28.6, 28.8],\n",
       "        [28.8, 29. ],\n",
       "        [29. , 29.2],\n",
       "        [29.2, 29.4],\n",
       "        [29.4, 29.6],\n",
       "        [29.6, 29.8],\n",
       "        [29.8, 30. ],\n",
       "        [30. , 30.2],\n",
       "        [30.2, 30.4],\n",
       "        [30.4, 30.6],\n",
       "        [30.6, 30.8],\n",
       "        [30.8, 31. ],\n",
       "        [31. , 31.2],\n",
       "        [31.2, 31.4],\n",
       "        [31.4, 31.6],\n",
       "        [31.6, 31.8],\n",
       "        [31.8, 32. ],\n",
       "        [32. , 32.2],\n",
       "        [32.2, 32.4]],\n",
       "  mask=False,\n",
       "  fill_value=1e+20)"
      ]
     },
     "execution_count": 11,
     "metadata": {},
     "output_type": "execute_result"
    }
   ],
   "source": [
    "# What is Easting_bnds?\n",
    "ds['Easting_bnds'][:]"
   ]
  },
  {
   "cell_type": "code",
   "execution_count": 12,
   "metadata": {
    "collapsed": false
   },
   "outputs": [
    {
     "data": {
      "text/plain": [
       "masked_array(data=[1, 2],\n",
       "             mask=False,\n",
       "       fill_value=999999,\n",
       "            dtype=int32)"
      ]
     },
     "execution_count": 12,
     "metadata": {},
     "output_type": "execute_result"
    }
   ],
   "source": [
    "# What is nbound?\n",
    "ds['nbound'][:]"
   ]
  },
  {
   "attachments": {},
   "cell_type": "markdown",
   "metadata": {
    "collapsed": false
   },
   "source": [
    "The original nc file has dimensions:\n",
    "**<class 'netCDF4._netCDF4.Dimension'>: name = 'nbound', size = 2**\n",
    "**<class 'netCDF4._netCDF4.Dimension'>: name = 'Northing', size = 3**\n",
    "**<class 'netCDF4._netCDF4.Dimension'>: name = 'Easting', size = 162**\n",
    "**<class 'netCDF4._netCDF4.Dimension'>: name = 'Depth', size = 25**\n"
   ]
  },
  {
   "cell_type": "code",
   "execution_count": 13,
   "metadata": {
    "collapsed": false
   },
   "outputs": [
    {
     "name": "stdout",
     "output_type": "stream",
     "text": [
      "<class 'netCDF4._netCDF4.Dimension'>: name = 'nbound', size = 2\n",
      "<class 'netCDF4._netCDF4.Dimension'>: name = 'Northing', size = 3\n",
      "<class 'netCDF4._netCDF4.Dimension'>: name = 'Easting', size = 162\n",
      "<class 'netCDF4._netCDF4.Dimension'>: name = 'Depth', size = 25\n"
     ]
    }
   ],
   "source": [
    "# Create dimensions\n",
    "nc_file.createDimension('nbound',size = nbound_val)\n",
    "nc_file.createDimension('Northing', size = northing_cell)\n",
    "nc_file.createDimension('Easting', size = easting_cell)\n",
    "nc_file.createDimension('Depth', size = depth_cell)\n",
    "# test dimension\n",
    "for dim in nc_file.dimensions.values():\n",
    "    print(dim)"
   ]
  },
  {
   "attachments": {},
   "cell_type": "markdown",
   "metadata": {
    "collapsed": false
   },
   "source": [
    "Creating variables:\n",
    "There're values called\n",
    "\n",
    "nbound\n",
    "Northing\n",
    "Northing_bnds\n",
    "Northing_Origin\n",
    "Easting\n",
    "Easting_bnds\n",
    "Easting_Origin\n",
    "Depth\n",
    "Depth_bnds\n",
    "Depth_Origin\n",
    "Slowness\n",
    "\n",
    "HERE."
   ]
  },
  {
   "cell_type": "code",
   "execution_count": 14,
   "metadata": {
    "collapsed": false
   },
   "outputs": [],
   "source": [
    "# Create vars\n",
    "\n",
    "# nbound, int32\n",
    "nbound = nc_file.createVariable('nbound', np.int32, ('nbound',))\n",
    "# others, float 64\n",
    "Northing = nc_file.createVariable('Northing', np.float64, ('Northing', ))\n",
    "Easting = nc_file.createVariable('Easting', np.float64, ('Easting', ))\n",
    "Depth = nc_file.createVariable('Depth', np.float64, ('Depth', ))\n",
    " # bnds\n",
    "Northing_bnds = nc_file.createVariable('Northing_bnds', np.float64, ('Northing', 'nbound'))\n",
    "Easting_bnds = nc_file.createVariable('Easting_bnds', np.float64, ('Easting', 'nbound'))\n",
    "Depth_bnds = nc_file.createVariable('Depth_bnds', np.float64, ('Depth', 'nbound'))\n",
    " # Origins\n",
    "Northing_Origin = nc_file.createVariable('Northing_Origin', np.float64, ())\n",
    "Easting_Origin = nc_file.createVariable('Easting_Origin', np.float64, ())\n",
    "Depth_Origin = nc_file.createVariable('Depth_Origin', np.float64, ())\n",
    " # slowness\n",
    "Slowness = nc_file.createVariable('Slowness', np.float64, ('Depth', 'Easting', 'Northing'))"
   ]
  },
  {
   "cell_type": "code",
   "execution_count": 15,
   "metadata": {
    "collapsed": false
   },
   "outputs": [
    {
     "name": "stdout",
     "output_type": "stream",
     "text": [
      "<class 'netCDF4._netCDF4.Variable'>\n",
      "int32 nbound(nbound)\n",
      "    long_name: Boundary index variable\n",
      "unlimited dimensions: \n",
      "current shape = (2,)\n",
      "filling on, default _FillValue of -2147483647 used\n",
      "<class 'netCDF4._netCDF4.Variable'>\n",
      "float64 Northing(Northing)\n",
      "    units: m\n",
      "    long_name: Northing coordinate\n",
      "    bounds: Northing_bnds\n",
      "unlimited dimensions: \n",
      "current shape = (3,)\n",
      "filling on, default _FillValue of 9.969209968386869e+36 used\n",
      "<class 'netCDF4._netCDF4.Variable'>\n",
      "float64 Northing_bnds(Northing, nbound)\n",
      "    units: m\n",
      "unlimited dimensions: \n",
      "current shape = (3, 2)\n",
      "filling on, default _FillValue of 9.969209968386869e+36 used\n",
      "<class 'netCDF4._netCDF4.Variable'>\n",
      "float64 Northing_Origin()\n",
      "unlimited dimensions: \n",
      "current shape = ()\n",
      "filling on, default _FillValue of 9.969209968386869e+36 used\n",
      "<class 'netCDF4._netCDF4.Variable'>\n",
      "float64 Easting(Easting)\n",
      "    units: m\n",
      "    long_name: Easting coordinate\n",
      "    bounds: Easting_bnds\n",
      "unlimited dimensions: \n",
      "current shape = (162,)\n",
      "filling on, default _FillValue of 9.969209968386869e+36 used\n",
      "<class 'netCDF4._netCDF4.Variable'>\n",
      "float64 Easting_bnds(Easting, nbound)\n",
      "    units: m\n",
      "unlimited dimensions: \n",
      "current shape = (162, 2)\n",
      "filling on, default _FillValue of 9.969209968386869e+36 used\n",
      "<class 'netCDF4._netCDF4.Variable'>\n",
      "float64 Easting_Origin()\n",
      "unlimited dimensions: \n",
      "current shape = ()\n",
      "filling on, default _FillValue of 9.969209968386869e+36 used\n",
      "<class 'netCDF4._netCDF4.Variable'>\n",
      "float64 Depth(Depth)\n",
      "    units: m\n",
      "    long_name: Depth coordinate\n",
      "    bounds: Depth_bnds\n",
      "unlimited dimensions: \n",
      "current shape = (25,)\n",
      "filling on, default _FillValue of 9.969209968386869e+36 used\n",
      "<class 'netCDF4._netCDF4.Variable'>\n",
      "float64 Depth_bnds(Depth, nbound)\n",
      "    units: m\n",
      "unlimited dimensions: \n",
      "current shape = (25, 2)\n",
      "filling on, default _FillValue of 9.969209968386869e+36 used\n",
      "<class 'netCDF4._netCDF4.Variable'>\n",
      "float64 Depth_Origin()\n",
      "unlimited dimensions: \n",
      "current shape = ()\n",
      "filling on, default _FillValue of 9.969209968386869e+36 used\n",
      "<class 'netCDF4._netCDF4.Variable'>\n",
      "float64 Slowness(Depth, Easting, Northing)\n",
      "    units: s/m\n",
      "    long_name: Slowness\n",
      "unlimited dimensions: \n",
      "current shape = (25, 162, 3)\n",
      "filling on, default _FillValue of 9.969209968386869e+36 used\n"
     ]
    }
   ],
   "source": [
    "# test nc file:\n",
    "for var in ds.variables.values():\n",
    "    print(var)"
   ]
  },
  {
   "cell_type": "code",
   "execution_count": 16,
   "metadata": {
    "collapsed": false
   },
   "outputs": [],
   "source": [
    "# writing data:\n",
    "# Depth, Northing, Easting data\n",
    "Depth[:] = np.arange(interval, interval * (depth_cell+1e-9), interval)\n",
    "nbound[:] = np.arange(1, nbound_val + 1e-9)\n",
    "Northing[:] = np.arange(interval, interval * (northing_cell+1e-9), interval)\n",
    "Easting[:] = np.arange(interval, interval * (easting_cell + 1e-9), interval)"
   ]
  },
  {
   "cell_type": "code",
   "execution_count": 17,
   "metadata": {
    "collapsed": false
   },
   "outputs": [
    {
     "data": {
      "text/plain": [
       "masked_array(data=[0.2, 0.4, 0.6],\n",
       "             mask=False,\n",
       "       fill_value=1e+20)"
      ]
     },
     "execution_count": 17,
     "metadata": {},
     "output_type": "execute_result"
    }
   ],
   "source": [
    "# Check data\n",
    "nc_file['Northing'][:]"
   ]
  },
  {
   "cell_type": "code",
   "execution_count": 18,
   "metadata": {
    "collapsed": false
   },
   "outputs": [
    {
     "data": {
      "text/plain": [
       "masked_array(data=[0.2, 0.4, 0.6],\n",
       "             mask=False,\n",
       "       fill_value=1e+20)"
      ]
     },
     "execution_count": 18,
     "metadata": {},
     "output_type": "execute_result"
    }
   ],
   "source": [
    "# Check data\n",
    "ds['Northing'][:]"
   ]
  },
  {
   "cell_type": "code",
   "execution_count": 19,
   "metadata": {
    "collapsed": false
   },
   "outputs": [
    {
     "name": "stdout",
     "output_type": "stream",
     "text": [
      "[[0.  0.2]\n",
      " [0.2 0.4]\n",
      " [0.4 0.6]]\n"
     ]
    }
   ],
   "source": [
    "# writing bnds data\n",
    "print(ds['Northing_bnds'][:])\n",
    "## init ndarray\n",
    "Northing_bnds_data = np.zeros([northing_cell, nbound_val])\n",
    "Easting_bnds_data = np.zeros([easting_cell, nbound_val])\n",
    "Depth_bnds_data = np.zeros([depth_cell, nbound_val])\n",
    "\n",
    "## gen value using loop\n",
    "for nbound_iter in range(nbound_val):\n",
    "    for northing_iter in range(northing_cell):\n",
    "        Northing_bnds_data[northing_iter, nbound_iter] = interval * (northing_iter + nbound_iter)\n",
    "\n",
    "for nbound_iter in range(nbound_val):\n",
    "    for easting_iter in range(easting_cell):\n",
    "        Easting_bnds_data[easting_iter, nbound_iter] = interval * (easting_iter + nbound_iter)\n",
    "\n",
    "for nbound_iter in range(nbound_val):\n",
    "    for depth_iter in range(depth_cell):\n",
    "        Depth_bnds_data[depth_iter, nbound_iter] = interval * (depth_iter + nbound_iter)\n",
    "\n",
    "Northing_bnds[:,:] = Northing_bnds_data\n",
    "Easting_bnds[:,:] = Easting_bnds_data\n",
    "Depth_bnds[:, :] = Depth_bnds_data"
   ]
  },
  {
   "cell_type": "code",
   "execution_count": 20,
   "metadata": {
    "collapsed": false
   },
   "outputs": [],
   "source": [
    "# Gen Slowness\n",
    "##"
   ]
  },
  {
   "cell_type": "code",
   "execution_count": 21,
   "metadata": {
    "collapsed": false
   },
   "outputs": [
    {
     "data": {
      "text/plain": [
       "(25, 162, 3)"
      ]
     },
     "execution_count": 21,
     "metadata": {},
     "output_type": "execute_result"
    }
   ],
   "source": [
    "\n",
    "np.shape(ds['Slowness'][:])"
   ]
  },
  {
   "cell_type": "code",
   "execution_count": 22,
   "metadata": {
    "collapsed": false
   },
   "outputs": [],
   "source": [
    "# write the slowness data\n",
    "## generate vel matrix\n",
    "vel_data_set = np.load(\"dataset.npz\")\n",
    "depth = vel_data_set['depth'] # n=unit: cm\n",
    "seis = vel_data_set['seis']\n",
    "cluster_data = vel_data_set['cluster']\n",
    "# depth to SI unit\n",
    "depth = depth / 100\n",
    "depth\n",
    "depth_seis_attri = np.polyfit(np.log(depth), seis, 1)"
   ]
  },
  {
   "cell_type": "code",
   "execution_count": 23,
   "metadata": {
    "collapsed": false
   },
   "outputs": [
    {
     "data": {
      "image/png": "[encoded data removed]",
      "text/plain": [
       "<Figure size 640x480 with 1 Axes>"
      ]
     },
     "metadata": {},
     "output_type": "display_data"
    }
   ],
   "source": [
    "depth_axis = np.arange(interval, interval * (depth_cell+1e-9), interval)\n",
    "seis_vel_axis = np.log(depth_axis) * depth_seis_attri[0] + depth_seis_attri[1]\n",
    "\n",
    "import matplotlib.pyplot as plt\n",
    "plt.figure()\n",
    "plt.scatter(depth, seis, c=cluster_data, cmap=plt.cm.Set1)\n",
    "plt.xlabel(\"depth\")\n",
    "plt.ylabel(\"velocity\")\n",
    "plt.plot(depth_axis,  seis_vel_axis, 'b')\n",
    "plt.legend([\"Observed data\", \"Curve fit\"])\n",
    "plt.show()"
   ]
  },
  {
   "cell_type": "code",
   "execution_count": 24,
   "metadata": {
    "collapsed": false
   },
   "outputs": [
    {
     "name": "stdout",
     "output_type": "stream",
     "text": [
      "[0.00743591 0.00405948 0.00320752 0.00279181 0.00253678 0.0023606\n",
      " 0.00222967 0.00212745 0.00204477 0.00197607 0.00191779 0.0018675\n",
      " 0.00182351 0.00178459 0.00174983 0.00171851 0.00169009 0.00166415\n",
      " 0.00164034 0.00161836 0.001598   0.00157906 0.00156137 0.00154481\n",
      " 0.00152924]\n"
     ]
    }
   ],
   "source": [
    "# convert seis_vel_axis to slowness axis\n",
    "seis_slowness_axis = 1/seis_vel_axis\n",
    "print(seis_slowness_axis)"
   ]
  },
  {
   "cell_type": "code",
   "execution_count": 25,
   "metadata": {
    "collapsed": false
   },
   "outputs": [
    {
     "name": "stdout",
     "output_type": "stream",
     "text": [
      "(25, 162, 3)\n",
      "(25, 162, 3)\n"
     ]
    }
   ],
   "source": [
    "# create 3d array to store slowness array\n",
    "slowness_data = np.ones([depth_cell, easting_cell, northing_cell])\n",
    "print(np.shape(slowness_data))\n",
    "print(np.shape(ds['Slowness'][:]))"
   ]
  },
  {
   "cell_type": "code",
   "execution_count": 26,
   "metadata": {
    "collapsed": false
   },
   "outputs": [],
   "source": [
    "# using a loop to write data\n",
    "for depth_iter in range(depth_cell):\n",
    "    slowness_data[depth_iter, :, :] = slowness_data[depth_iter, :, :] * seis_slowness_axis[depth_iter]\n",
    "Slowness[:,:,:] = slowness_data"
   ]
  },
  {
   "cell_type": "code",
   "execution_count": 27,
   "metadata": {
    "collapsed": false
   },
   "outputs": [
    {
     "name": "stdout",
     "output_type": "stream",
     "text": [
      "(25, 162, 3)\n",
      "(25, 162, 3)\n"
     ]
    }
   ],
   "source": [
    "print(np.shape(ds['Slowness'][:]))\n",
    "print(np.shape(nc_file['Slowness'][:]))"
   ]
  },
  {
   "cell_type": "code",
   "execution_count": 28,
   "metadata": {
    "collapsed": false
   },
   "outputs": [
    {
     "name": "stdout",
     "output_type": "stream",
     "text": [
      "[[0.01       0.01       0.01      ]\n",
      " [0.00774194 0.00774194 0.00774194]\n",
      " [0.00631579 0.00631579 0.00631579]\n",
      " [0.00533333 0.00533333 0.00533333]\n",
      " [0.00461538 0.00461538 0.00461538]\n",
      " [0.0040678  0.0040678  0.0040678 ]\n",
      " [0.00363636 0.00363636 0.00363636]\n",
      " [0.00328767 0.00328767 0.00328767]\n",
      " [0.003      0.003      0.003     ]\n",
      " [0.00275862 0.00275862 0.00275862]\n",
      " [0.00255319 0.00255319 0.00255319]\n",
      " [0.00237624 0.00237624 0.00237624]\n",
      " [0.00222222 0.00222222 0.00222222]\n",
      " [0.00208696 0.00208696 0.00208696]\n",
      " [0.00196721 0.00196721 0.00196721]\n",
      " [0.00186047 0.00186047 0.00186047]\n",
      " [0.00176471 0.00176471 0.00176471]\n",
      " [0.00167832 0.00167832 0.00167832]\n",
      " [0.0016     0.0016     0.0016    ]\n",
      " [0.00152866 0.00152866 0.00152866]\n",
      " [0.00146341 0.00146341 0.00146341]\n",
      " [0.00140351 0.00140351 0.00140351]\n",
      " [0.00134831 0.00134831 0.00134831]\n",
      " [0.0012973  0.0012973  0.0012973 ]\n",
      " [0.00125    0.00125    0.00125   ]]\n",
      "[[0.00743591 0.00743591 0.00743591]\n",
      " [0.00405948 0.00405948 0.00405948]\n",
      " [0.00320752 0.00320752 0.00320752]\n",
      " [0.00279181 0.00279181 0.00279181]\n",
      " [0.00253678 0.00253678 0.00253678]\n",
      " [0.0023606  0.0023606  0.0023606 ]\n",
      " [0.00222967 0.00222967 0.00222967]\n",
      " [0.00212745 0.00212745 0.00212745]\n",
      " [0.00204477 0.00204477 0.00204477]\n",
      " [0.00197607 0.00197607 0.00197607]\n",
      " [0.00191779 0.00191779 0.00191779]\n",
      " [0.0018675  0.0018675  0.0018675 ]\n",
      " [0.00182351 0.00182351 0.00182351]\n",
      " [0.00178459 0.00178459 0.00178459]\n",
      " [0.00174983 0.00174983 0.00174983]\n",
      " [0.00171851 0.00171851 0.00171851]\n",
      " [0.00169009 0.00169009 0.00169009]\n",
      " [0.00166415 0.00166415 0.00166415]\n",
      " [0.00164034 0.00164034 0.00164034]\n",
      " [0.00161836 0.00161836 0.00161836]\n",
      " [0.001598   0.001598   0.001598  ]\n",
      " [0.00157906 0.00157906 0.00157906]\n",
      " [0.00156137 0.00156137 0.00156137]\n",
      " [0.00154481 0.00154481 0.00154481]\n",
      " [0.00152924 0.00152924 0.00152924]]\n"
     ]
    }
   ],
   "source": [
    "print(ds['Slowness'][:,1,:])\n",
    "print(nc_file['Slowness'][:,2,:])"
   ]
  },
  {
   "cell_type": "code",
   "execution_count": 29,
   "metadata": {
    "collapsed": false
   },
   "outputs": [],
   "source": [
    "nc_file.close()"
   ]
  },
  {
   "cell_type": "code",
   "execution_count": null,
   "metadata": {
    "collapsed": false
   },
   "outputs": [],
   "source": []
  }
 ],
 "metadata": {
  "kernelspec": {
   "display_name": "Python 3",
   "language": "python",
   "name": "python3"
  },
  "language_info": {
   "codemirror_mode": {
    "name": "ipython",
    "version": 2
   },
   "file_extension": ".py",
   "mimetype": "text/x-python",
   "name": "python",
   "nbconvert_exporter": "python",
   "pygments_lexer": "ipython2",
   "version": "2.7.6"
  }
 },
 "nbformat": 4,
 "nbformat_minor": 0
}
